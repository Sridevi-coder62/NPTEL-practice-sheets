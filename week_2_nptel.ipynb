{
  "nbformat": 4,
  "nbformat_minor": 0,
  "metadata": {
    "colab": {
      "provenance": []
    },
    "kernelspec": {
      "name": "python3",
      "display_name": "Python 3"
    },
    "language_info": {
      "name": "python"
    }
  },
  "cells": [
    {
      "cell_type": "code",
      "execution_count": 1,
      "metadata": {
        "colab": {
          "base_uri": "https://localhost:8080/"
        },
        "id": "HgkW9AJiW7WE",
        "outputId": "e841e5d6-c2e7-48b5-c5af-2540bab7e87d"
      },
      "outputs": [
        {
          "output_type": "stream",
          "name": "stdout",
          "text": [
            "What is your name?\n"
          ]
        }
      ],
      "source": [
        "print(\"What is your name?\")"
      ]
    },
    {
      "cell_type": "code",
      "source": [
        "#To take input from User\n",
        "n=input(\"What is your name?\")"
      ],
      "metadata": {
        "colab": {
          "base_uri": "https://localhost:8080/"
        },
        "id": "XJIIM9L-XG1e",
        "outputId": "345dbde2-c419-4240-ea42-eb59cac51454"
      },
      "execution_count": 2,
      "outputs": [
        {
          "name": "stdout",
          "output_type": "stream",
          "text": [
            "What is your name?Sridevi.k\n"
          ]
        }
      ]
    },
    {
      "cell_type": "code",
      "source": [
        "print(n)"
      ],
      "metadata": {
        "colab": {
          "base_uri": "https://localhost:8080/"
        },
        "id": "p0igg-rgXXvN",
        "outputId": "9b20725b-d706-4d6e-d841-bbc0834bd223"
      },
      "execution_count": 3,
      "outputs": [
        {
          "output_type": "stream",
          "name": "stdout",
          "text": [
            "Sridevi.k\n"
          ]
        }
      ]
    },
    {
      "cell_type": "code",
      "source": [
        "a=input(\"What is your name?\")\n",
        "print(\"Hello\", a)"
      ],
      "metadata": {
        "colab": {
          "base_uri": "https://localhost:8080/"
        },
        "id": "6vtMh3ESXpPa",
        "outputId": "9ce21dd0-08de-44bd-d52d-61319b708a42"
      },
      "execution_count": 4,
      "outputs": [
        {
          "output_type": "stream",
          "name": "stdout",
          "text": [
            "What is your name?Sridevi\n",
            "Hello Sridevi\n"
          ]
        }
      ]
    },
    {
      "cell_type": "code",
      "source": [
        "print(\"How are you\", a)"
      ],
      "metadata": {
        "colab": {
          "base_uri": "https://localhost:8080/"
        },
        "id": "A7Y2WWbiX3LB",
        "outputId": "e99d16cf-5b25-4df5-923e-35939aa4e606"
      },
      "execution_count": 5,
      "outputs": [
        {
          "output_type": "stream",
          "name": "stdout",
          "text": [
            "How are you Sridevi\n"
          ]
        }
      ]
    },
    {
      "cell_type": "code",
      "source": [
        "print(\"I hope, life is going well\", n,\"Hows is ur studies??\")"
      ],
      "metadata": {
        "colab": {
          "base_uri": "https://localhost:8080/"
        },
        "id": "HVIbOM0qX-Yt",
        "outputId": "093df7d5-82dc-4dbd-bb73-239f356f6d17"
      },
      "execution_count": 6,
      "outputs": [
        {
          "output_type": "stream",
          "name": "stdout",
          "text": [
            "I hope, life is going well Sridevi.k Hows is ur studies??\n"
          ]
        }
      ]
    },
    {
      "cell_type": "code",
      "source": [
        "d=input(\"What is your name?\")\n",
        "print(\"Hello\", d)\n",
        "print(\"How are you\", d)\n",
        "print(\"I hope life is treating\",d,\"well\")"
      ],
      "metadata": {
        "colab": {
          "base_uri": "https://localhost:8080/"
        },
        "id": "8flOD6EnYbum",
        "outputId": "dfef7243-e9df-46af-f6bf-aeaf85fedbb0"
      },
      "execution_count": 7,
      "outputs": [
        {
          "output_type": "stream",
          "name": "stdout",
          "text": [
            "What is your name?Ram\n",
            "Hello Ram\n",
            "How are you Ram\n",
            "I hope life is treating Ram well\n"
          ]
        }
      ]
    },
    {
      "cell_type": "code",
      "source": [
        "#Discount Calculation\n",
        "\n",
        "print(\"Hi, How are you!! , Lets compute the final price after discount.\")\n",
        "a=input(\"Enter the cost\")\n",
        "b=int(a)\n",
        "c=0.9*b\n",
        "print(\"The cost after discount is:\", c)"
      ],
      "metadata": {
        "colab": {
          "base_uri": "https://localhost:8080/"
        },
        "id": "I5qffe8gZT3c",
        "outputId": "487a35f8-82dd-439f-d398-fba64e117610"
      },
      "execution_count": 8,
      "outputs": [
        {
          "output_type": "stream",
          "name": "stdout",
          "text": [
            "Hi, How are you!! , Lets compute the final price after discount.\n",
            "Enter the cost1000\n",
            "The cost after discount is: 900.0\n"
          ]
        }
      ]
    },
    {
      "cell_type": "code",
      "source": [
        "print(\"Hi, How are you.\")\n",
        "a=input(\"Please enter your choice : \")\n",
        "b=int(a)\n",
        "if(b==1):\n",
        "  print(\"You Entered One\")\n",
        "if(b==2):\n",
        "  print(\"You Entered Two\")\n",
        "if(b==3):\n",
        "  print(\"I am Tired\")"
      ],
      "metadata": {
        "colab": {
          "base_uri": "https://localhost:8080/"
        },
        "id": "ngCVUsHKcQlu",
        "outputId": "04d2ab7e-2fb4-42fb-e320-ea8064940ab3"
      },
      "execution_count": 11,
      "outputs": [
        {
          "output_type": "stream",
          "name": "stdout",
          "text": [
            "Hi, How are you.\n",
            "Please enter your choice : 3\n",
            "I am Tired\n"
          ]
        }
      ]
    },
    {
      "cell_type": "code",
      "source": [
        "print(\"Hi, How are you\")\n",
        "print(\"Hi, How are you\")\n",
        "print(\"Hi, How are you\")\n",
        "print(\"Hi, How are you\")\n",
        "print(\"Hi, How are you\")"
      ],
      "metadata": {
        "colab": {
          "base_uri": "https://localhost:8080/"
        },
        "id": "xpcMbsXQgkew",
        "outputId": "9ed3475b-5331-43e1-bf54-41fcd17fd87d"
      },
      "execution_count": 12,
      "outputs": [
        {
          "output_type": "stream",
          "name": "stdout",
          "text": [
            "Hi, How are you\n",
            "Hi, How are you\n",
            "Hi, How are you\n",
            "Hi, How are you\n",
            "Hi, How are you\n"
          ]
        }
      ]
    },
    {
      "cell_type": "code",
      "source": [
        "#looping\n",
        "for i in range(10):\n",
        "  print(\"Hi, How is everything?\")\n"
      ],
      "metadata": {
        "colab": {
          "base_uri": "https://localhost:8080/"
        },
        "id": "SBYqcwFwgvoY",
        "outputId": "f89af93a-98b6-4cdf-f6e1-6b7d435df607"
      },
      "execution_count": 13,
      "outputs": [
        {
          "output_type": "stream",
          "name": "stdout",
          "text": [
            "Hi, How is everything?\n",
            "Hi, How is everything?\n",
            "Hi, How is everything?\n",
            "Hi, How is everything?\n",
            "Hi, How is everything?\n",
            "Hi, How is everything?\n",
            "Hi, How is everything?\n",
            "Hi, How is everything?\n",
            "Hi, How is everything?\n",
            "Hi, How is everything?\n"
          ]
        }
      ]
    },
    {
      "cell_type": "code",
      "source": [
        "for i in range(5):\n",
        "  print(i)"
      ],
      "metadata": {
        "colab": {
          "base_uri": "https://localhost:8080/"
        },
        "id": "lBfX8nhehUYO",
        "outputId": "1f07f407-8ab1-4dd7-8c1e-f4b2dd342ba0"
      },
      "execution_count": 14,
      "outputs": [
        {
          "output_type": "stream",
          "name": "stdout",
          "text": [
            "0\n",
            "1\n",
            "2\n",
            "3\n",
            "4\n"
          ]
        }
      ]
    },
    {
      "cell_type": "code",
      "source": [
        "for i in range(10):\n",
        "  print(\"Hi, you are in number\", i)"
      ],
      "metadata": {
        "colab": {
          "base_uri": "https://localhost:8080/"
        },
        "id": "oLDioma6hm62",
        "outputId": "5ff21561-bf7a-4367-902f-fb373d6d2cb3"
      },
      "execution_count": 15,
      "outputs": [
        {
          "output_type": "stream",
          "name": "stdout",
          "text": [
            "Hi, you are in number 0\n",
            "Hi, you are in number 1\n",
            "Hi, you are in number 2\n",
            "Hi, you are in number 3\n",
            "Hi, you are in number 4\n",
            "Hi, you are in number 5\n",
            "Hi, you are in number 6\n",
            "Hi, you are in number 7\n",
            "Hi, you are in number 8\n",
            "Hi, you are in number 9\n"
          ]
        }
      ]
    },
    {
      "cell_type": "code",
      "source": [
        "#2 tables\n",
        "for i in range(11):\n",
        "  print(i*2)"
      ],
      "metadata": {
        "colab": {
          "base_uri": "https://localhost:8080/"
        },
        "id": "RfMTls-UiXb9",
        "outputId": "58a2752b-09ce-4ef4-9ed8-815f818a83cc"
      },
      "execution_count": 16,
      "outputs": [
        {
          "output_type": "stream",
          "name": "stdout",
          "text": [
            "0\n",
            "2\n",
            "4\n",
            "6\n",
            "8\n",
            "10\n",
            "12\n",
            "14\n",
            "16\n",
            "18\n",
            "20\n"
          ]
        }
      ]
    },
    {
      "cell_type": "code",
      "source": [
        "#Sum(1+2+3)\n",
        "answer=0\n",
        "print(answer)\n",
        "answer=answer+1\n",
        "print(answer)\n",
        "answer=answer+2\n",
        "print(answer)\n",
        "answer=answer+3\n",
        "print(answer)\n",
        "answer=answer+4\n",
        "print(answer)\n"
      ],
      "metadata": {
        "colab": {
          "base_uri": "https://localhost:8080/"
        },
        "id": "8oIZTM2Pih1C",
        "outputId": "fb787710-1cbb-478e-bd0a-67c0d6283c0d"
      },
      "execution_count": 17,
      "outputs": [
        {
          "output_type": "stream",
          "name": "stdout",
          "text": [
            "0\n",
            "1\n",
            "3\n",
            "6\n",
            "10\n"
          ]
        }
      ]
    },
    {
      "cell_type": "code",
      "source": [
        "a=0\n",
        "for i in range(5):\n",
        "  a=a+i\n",
        "print(a)"
      ],
      "metadata": {
        "colab": {
          "base_uri": "https://localhost:8080/"
        },
        "id": "n8D4Ynydlqgy",
        "outputId": "5bf9ee99-386b-43f4-cd0a-dcac277cb7c7"
      },
      "execution_count": 19,
      "outputs": [
        {
          "output_type": "stream",
          "name": "stdout",
          "text": [
            "10\n"
          ]
        }
      ]
    },
    {
      "cell_type": "code",
      "source": [
        "a=0\n",
        "for i in range(5):\n",
        "  a=a+i\n",
        "  print(a)"
      ],
      "metadata": {
        "colab": {
          "base_uri": "https://localhost:8080/"
        },
        "id": "GPeW8adbmT0n",
        "outputId": "080a9660-f60b-4d44-b6b8-b146e3649b71"
      },
      "execution_count": 20,
      "outputs": [
        {
          "output_type": "stream",
          "name": "stdout",
          "text": [
            "0\n",
            "1\n",
            "3\n",
            "6\n",
            "10\n"
          ]
        }
      ]
    },
    {
      "cell_type": "code",
      "source": [
        "a=0\n",
        "for i in range(100):\n",
        "  a=a+i\n",
        "  print(i, \"when added gives: \", a)"
      ],
      "metadata": {
        "colab": {
          "base_uri": "https://localhost:8080/"
        },
        "id": "LGHIN63Pm121",
        "outputId": "bf539c90-b70f-436b-f164-313ec32d634e"
      },
      "execution_count": 22,
      "outputs": [
        {
          "output_type": "stream",
          "name": "stdout",
          "text": [
            "0 when added gives:  0\n",
            "1 when added gives:  1\n",
            "2 when added gives:  3\n",
            "3 when added gives:  6\n",
            "4 when added gives:  10\n",
            "5 when added gives:  15\n",
            "6 when added gives:  21\n",
            "7 when added gives:  28\n",
            "8 when added gives:  36\n",
            "9 when added gives:  45\n",
            "10 when added gives:  55\n",
            "11 when added gives:  66\n",
            "12 when added gives:  78\n",
            "13 when added gives:  91\n",
            "14 when added gives:  105\n",
            "15 when added gives:  120\n",
            "16 when added gives:  136\n",
            "17 when added gives:  153\n",
            "18 when added gives:  171\n",
            "19 when added gives:  190\n",
            "20 when added gives:  210\n",
            "21 when added gives:  231\n",
            "22 when added gives:  253\n",
            "23 when added gives:  276\n",
            "24 when added gives:  300\n",
            "25 when added gives:  325\n",
            "26 when added gives:  351\n",
            "27 when added gives:  378\n",
            "28 when added gives:  406\n",
            "29 when added gives:  435\n",
            "30 when added gives:  465\n",
            "31 when added gives:  496\n",
            "32 when added gives:  528\n",
            "33 when added gives:  561\n",
            "34 when added gives:  595\n",
            "35 when added gives:  630\n",
            "36 when added gives:  666\n",
            "37 when added gives:  703\n",
            "38 when added gives:  741\n",
            "39 when added gives:  780\n",
            "40 when added gives:  820\n",
            "41 when added gives:  861\n",
            "42 when added gives:  903\n",
            "43 when added gives:  946\n",
            "44 when added gives:  990\n",
            "45 when added gives:  1035\n",
            "46 when added gives:  1081\n",
            "47 when added gives:  1128\n",
            "48 when added gives:  1176\n",
            "49 when added gives:  1225\n",
            "50 when added gives:  1275\n",
            "51 when added gives:  1326\n",
            "52 when added gives:  1378\n",
            "53 when added gives:  1431\n",
            "54 when added gives:  1485\n",
            "55 when added gives:  1540\n",
            "56 when added gives:  1596\n",
            "57 when added gives:  1653\n",
            "58 when added gives:  1711\n",
            "59 when added gives:  1770\n",
            "60 when added gives:  1830\n",
            "61 when added gives:  1891\n",
            "62 when added gives:  1953\n",
            "63 when added gives:  2016\n",
            "64 when added gives:  2080\n",
            "65 when added gives:  2145\n",
            "66 when added gives:  2211\n",
            "67 when added gives:  2278\n",
            "68 when added gives:  2346\n",
            "69 when added gives:  2415\n",
            "70 when added gives:  2485\n",
            "71 when added gives:  2556\n",
            "72 when added gives:  2628\n",
            "73 when added gives:  2701\n",
            "74 when added gives:  2775\n",
            "75 when added gives:  2850\n",
            "76 when added gives:  2926\n",
            "77 when added gives:  3003\n",
            "78 when added gives:  3081\n",
            "79 when added gives:  3160\n",
            "80 when added gives:  3240\n",
            "81 when added gives:  3321\n",
            "82 when added gives:  3403\n",
            "83 when added gives:  3486\n",
            "84 when added gives:  3570\n",
            "85 when added gives:  3655\n",
            "86 when added gives:  3741\n",
            "87 when added gives:  3828\n",
            "88 when added gives:  3916\n",
            "89 when added gives:  4005\n",
            "90 when added gives:  4095\n",
            "91 when added gives:  4186\n",
            "92 when added gives:  4278\n",
            "93 when added gives:  4371\n",
            "94 when added gives:  4465\n",
            "95 when added gives:  4560\n",
            "96 when added gives:  4656\n",
            "97 when added gives:  4753\n",
            "98 when added gives:  4851\n",
            "99 when added gives:  4950\n"
          ]
        }
      ]
    },
    {
      "cell_type": "code",
      "source": [
        "print(\"What tables you want to display?\")\n",
        "a=input(\"Enter your number\")\n",
        "b=int(a)\n",
        "for i in range(11):\n",
        "  print(b ,\"X\", i, \"=\", b*i )\n"
      ],
      "metadata": {
        "colab": {
          "base_uri": "https://localhost:8080/"
        },
        "id": "V8t8rbnenrep",
        "outputId": "cfc6da79-8115-4aaf-9771-27122714fb54"
      },
      "execution_count": 23,
      "outputs": [
        {
          "output_type": "stream",
          "name": "stdout",
          "text": [
            "What tables you want to display?\n",
            "Enter your number3\n",
            "3 X 0 = 0\n",
            "3 X 1 = 3\n",
            "3 X 2 = 6\n",
            "3 X 3 = 9\n",
            "3 X 4 = 12\n",
            "3 X 5 = 15\n",
            "3 X 6 = 18\n",
            "3 X 7 = 21\n",
            "3 X 8 = 24\n",
            "3 X 9 = 27\n",
            "3 X 10 = 30\n"
          ]
        }
      ]
    },
    {
      "cell_type": "code",
      "source": [
        "#While\n",
        "print(\"Hi everyone, we are starting\")\n",
        "n=1\n",
        "c=1\n",
        "while(c==1):\n",
        "  print(\"Token number \",n ,\"May come in\")\n",
        "  c=input(\"Continue?(0/1)\")\n",
        "  c=int(c)\n",
        "  n=n+1\n",
        "print(\"Thank you , we came to end of the day.\")"
      ],
      "metadata": {
        "colab": {
          "base_uri": "https://localhost:8080/"
        },
        "id": "Mdg9lENyp2yt",
        "outputId": "6d90cee7-03bb-4588-ad38-fe3afcc41bf2"
      },
      "execution_count": 26,
      "outputs": [
        {
          "output_type": "stream",
          "name": "stdout",
          "text": [
            "Hi everyone, we are starting\n",
            "Token number  1 May come in\n",
            "Continue?(0/1)0\n",
            "Thank you , we came to end of the day.\n"
          ]
        }
      ]
    }
  ]
}